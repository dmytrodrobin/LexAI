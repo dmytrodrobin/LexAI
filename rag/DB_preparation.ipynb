{
 "cells": [
  {
   "cell_type": "code",
   "execution_count": null,
   "metadata": {},
   "outputs": [],
   "source": [
    "import os\n",
    "import json\n",
    "import pandas as pd"
   ]
  },
  {
   "cell_type": "code",
   "execution_count": null,
   "metadata": {},
   "outputs": [],
   "source": [
    "file_path = 'labor_code_structure.json'\n",
    "\n",
    "with open(file_path, 'r') as file:\n",
    "    jsonData = json.load(file)"
   ]
  },
  {
   "cell_type": "code",
   "execution_count": null,
   "metadata": {},
   "outputs": [],
   "source": [
    "from langchain.graphs import Neo4jGraph\n",
    "from google.colab import userdata\n",
    "\n",
    "graph = Neo4jGraph(\n",
    "    url=userdata.get(\"NEO4J_URI\"),\n",
    "    username=userdata.get(\"NEO4J_USERNAME\"),\n",
    "    password=userdata.get(\"NEO4J_PASSWORD\")\n",
    ")"
   ]
  },
  {
   "cell_type": "markdown",
   "metadata": {},
   "source": [
    "# Importing data"
   ]
  },
  {
   "cell_type": "code",
   "execution_count": null,
   "metadata": {},
   "outputs": [],
   "source": [
    "def sanitize(text):\n",
    "    text = str(text).replace(\"'\", \"\").replace('\"', '').replace('{', '').replace('}', '')\n",
    "    return text"
   ]
  },
  {
   "cell_type": "code",
   "execution_count": null,
   "metadata": {},
   "outputs": [],
   "source": [
    "# Root node\n",
    "root_node = \"Кодекс законів про працю України\"\n",
    "\n",
    "# Create root node\n",
    "query = f'''\n",
    "    MERGE (root:Root {{name: \"{sanitize(root_node)}\"}})\n",
    "'''\n",
    "graph.query(query)"
   ]
  },
  {
   "cell_type": "code",
   "execution_count": null,
   "metadata": {},
   "outputs": [],
   "source": [
    "# Loop through each article and add them to the graph\n",
    "for article, references in jsonData[root_node].items():\n",
    "    article = sanitize(article)\n",
    "\n",
    "    # Create article node\n",
    "    query = f'''\n",
    "        MERGE (root:Root {{name: \"{sanitize(root_node)}\"}})\n",
    "        MERGE (article:Article {{name: \"{article}\"}})\n",
    "        MERGE (root)-[:CONTAINS]->(article)\n",
    "    '''\n",
    "    graph.query(query)\n",
    "\n",
    "    # Create reference nodes and relationships\n",
    "    for ref in references:\n",
    "        ref = sanitize(ref)\n",
    "        query = f'''\n",
    "            MERGE (article:Article {{name: \"{article}\"}})\n",
    "            MERGE (reference:Reference {{id: \"{ref}\"}})\n",
    "            MERGE (article)-[:REFERS_TO]->(reference)\n",
    "        '''\n",
    "        graph.query(query)"
   ]
  },
  {
   "cell_type": "code",
   "execution_count": null,
   "metadata": {},
   "outputs": [],
   "source": [
    "# Extract related document IDs\n",
    "related_document_ids = set()\n",
    "# Loop through each article and collect document IDs\n",
    "for article, references in jsonData[root_node].items():\n",
    "    for ref in references:\n",
    "        related_document_ids.add(ref)\n",
    "\n",
    "# Count unique related document IDs\n",
    "unique_count = len(related_document_ids)\n",
    "\n",
    "# Print the count\n",
    "print(f\"Unique related document IDs: {unique_count}\")"
   ]
  },
  {
   "cell_type": "code",
   "execution_count": null,
   "metadata": {},
   "outputs": [],
   "source": [
    "file_path = 'the_labour_code_of_ukraine.txt'\n",
    "with open(file_path, 'r', encoding='utf-8') as file:\n",
    "        data = file.read()"
   ]
  },
  {
   "cell_type": "code",
   "execution_count": null,
   "metadata": {},
   "outputs": [],
   "source": [
    "import re\n",
    "articles = re.finditer(r'Стаття \\d+\\s*(?:-\\s*\\d+)?\\s*\\..*?(?=\\nСтаття \\d+|$)', data, re.DOTALL)\n",
    "article_data = {}\n",
    "\n",
    "for article in articles:\n",
    "    article_text = article.group()\n",
    "    # Extract the article number and title\n",
    "    article_number = re.search(r'Стаття (\\d+\\s*(?:-\\s*\\d+)?)\\s*\\.', article_text).group(1).replace(\" \", \"\")\n",
    "    article_data[f\"Стаття {article_number}\"] = article_text"
   ]
  },
  {
   "cell_type": "code",
   "execution_count": null,
   "metadata": {},
   "outputs": [],
   "source": [
    "for name, text in article_data.items():\n",
    "    sanitized_name = sanitize(name)\n",
    "    sanitized_text = sanitize(text)\n",
    "    query = f'''\n",
    "        MATCH (a:Article {{name: \"{sanitized_name}\"}})\n",
    "        SET a.text = \"{sanitized_text}\"\n",
    "    '''\n",
    "    graph.query(query)"
   ]
  },
  {
   "cell_type": "markdown",
   "metadata": {},
   "source": [
    "# Embedding"
   ]
  },
  {
   "cell_type": "code",
   "execution_count": null,
   "metadata": {},
   "outputs": [],
   "source": [
    "from sentence_transformers import SentenceTransformer\n",
    "from typing import List\n",
    "import numpy as np\n",
    "\n",
    "class MyEmbeddings:\n",
    "        def __init__(self, model):\n",
    "            self.model = SentenceTransformer(model, trust_remote_code=True)\n",
    "\n",
    "        def normalize_vector(self, vector):\n",
    "            norm = np.linalg.norm(vector)\n",
    "            if norm == 0:\n",
    "                return vector\n",
    "            return vector / norm\n",
    "\n",
    "        def embed_documents(self, texts: List[str]) -> List[List[float]]:\n",
    "            embeddings = [self.model.encode(t) for t in texts]\n",
    "            normalized_embeddings = [self.normalize_vector(embedding).tolist() for embedding in embeddings]\n",
    "            return normalized_embeddings\n",
    "\n",
    "        def embed_query(self, text: str) -> List[float]:\n",
    "            embedding = self.model.encode([text])[0]\n",
    "            normalized_embedding = self.normalize_vector(embedding)\n",
    "            return normalized_embedding.tolist()"
   ]
  },
  {
   "cell_type": "code",
   "execution_count": null,
   "metadata": {},
   "outputs": [],
   "source": [
    "embeding_model = MyEmbeddings('lang-uk/ukr-paraphrase-multilingual-mpnet-base')"
   ]
  },
  {
   "cell_type": "code",
   "execution_count": null,
   "metadata": {},
   "outputs": [],
   "source": [
    "from langchain_community.vectorstores import Neo4jVector\n",
    "\n",
    "vector_index = Neo4jVector.from_existing_graph(\n",
    "    embeding_model,\n",
    "    search_type=\"hybrid\",\n",
    "    node_label=\"Article\",\n",
    "    text_node_properties=[\"text\"],\n",
    "    embedding_node_property=\"embedding\",\n",
    "    url=userdata.get(\"NEO4J_URI\"),\n",
    "    username=userdata.get(\"NEO4J_USERNAME\"),\n",
    "    password=userdata.get(\"NEO4J_PASSWORD\")\n",
    ")"
   ]
  }
 ],
 "metadata": {
  "language_info": {
   "name": "python"
  }
 },
 "nbformat": 4,
 "nbformat_minor": 2
}
